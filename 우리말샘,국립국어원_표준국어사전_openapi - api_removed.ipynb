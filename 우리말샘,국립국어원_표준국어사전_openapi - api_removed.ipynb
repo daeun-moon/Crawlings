{
  "cells": [
    {
      "cell_type": "markdown",
      "metadata": {
        "id": "trJhJIrdh6B5"
      },
      "source": [
        "# 우리말샘"
      ]
    },
    {
      "cell_type": "code",
      "execution_count": null,
      "metadata": {
        "id": "CPFcw8nPN38a"
      },
      "outputs": [],
      "source": [
        "def ourword_in_dict(kw): #kw= 검색하고자 하는 단어 ex) 나무, 잼민이\n",
        "  import requests\n",
        "  import json\n",
        "  api_key = '*******************' # api_key\n",
        "  keyword = kw\n",
        "  opendict_api =f'https://opendict.korean.go.kr/api/search?certkey_no=5862&key={api_key}&q={keyword}&req_type=json&part=word'\n",
        "  res = requests.get(opendict_api, verify = False)\n",
        "  # res.status_code 200이 나와야 정상\n",
        "  result = res.text.replace(\"\\n\",'')\n",
        "  if json.loads(result)['channel']['total'] == '0' :\n",
        "    return False # 사전에 존재하지 않음\n",
        "  else :\n",
        "    return True # 사전에 존재함"
      ]
    },
    {
      "cell_type": "code",
      "execution_count": null,
      "metadata": {
        "colab": {
          "base_uri": "https://localhost:8080/"
        },
        "id": "_r_EuMaZOnl7",
        "outputId": "b799c37d-7c66-42cd-f110-c8eb2edcb6bc"
      },
      "outputs": [
        {
          "data": {
            "text/plain": [
              "True"
            ]
          },
          "execution_count": 47,
          "metadata": {},
          "output_type": "execute_result"
        }
      ],
      "source": [
        "ourword_in_dict('싱글')"
      ]
    },
    {
      "cell_type": "code",
      "execution_count": null,
      "metadata": {
        "colab": {
          "base_uri": "https://localhost:8080/"
        },
        "id": "FjCTf_QfOomb",
        "outputId": "295e5b2a-df74-49ee-b0b2-d0e1a872bd16"
      },
      "outputs": [
        {
          "data": {
            "text/plain": [
              "False"
            ]
          },
          "execution_count": 48,
          "metadata": {},
          "output_type": "execute_result"
        }
      ],
      "source": [
        "ourword_in_dict('잼민이')"
      ]
    },
    {
      "cell_type": "markdown",
      "metadata": {
        "id": "sZGTT-DAh-pP"
      },
      "source": [
        "# 국립국어원 표준국어대사전"
      ]
    },
    {
      "cell_type": "code",
      "execution_count": 25,
      "metadata": {
        "id": "3HTbIG8Uh-I5"
      },
      "outputs": [],
      "source": [
        "def korword_in_dict(kw): #kw= 검색하고자 하는 단어 ex) 나무, 잼민이\n",
        "  import requests\n",
        "  import json\n",
        "  api_key = '*******************' # api_key\n",
        "  keyword = kw\n",
        "  opendict_api =f'https://stdict.korean.go.kr/api/search.do?certkey_no=5882&&key={api_key}&q={keyword}&req_type=json'\n",
        "  res = requests.get(opendict_api, verify = False)\n",
        "  # res.status_code 200이 나와야 정상\n",
        "  result = res.text.replace(\"\\n\",'')\n",
        "  if result == '' :\n",
        "    return False # 사전에 존재하지 않음\n",
        "  else :\n",
        "    return True # 사전에 존재함"
      ]
    },
    {
      "cell_type": "code",
      "execution_count": 26,
      "metadata": {
        "colab": {
          "base_uri": "https://localhost:8080/"
        },
        "id": "fPZibTUTkOkG",
        "outputId": "07e66d81-ad02-4fda-d0e1-e0ed88ac6615"
      },
      "outputs": [
        {
          "name": "stdout",
          "output_type": "stream",
          "text": [
            "{  \"channel\": {    \"total\": 5,    \"num\": 10,    \"title\": \"표준 국어 대사전 개발 지원(Open API) - 사전  검색\",    \"start\": 1,    \"description\": \"표준 국어 대사전 개발 지원(Open API) – 사전 검색 결과\",    \"item\": [      {        \"sup_no\": \"1\",        \"word\": \"나무\",        \"target_code\": \"404765\",        \"sense\": {          \"definition\": \"줄기나 가지가 목질로 된 여러해살이 식물.\",          \"link\": \"https://stdict.korean.go.kr/search/searchView.do?word_no=404765&searchKeywordTo=3\",          \"type\": \"일반어\"        },        \"pos\": \"명사\"      },      {        \"sup_no\": \"2\",        \"word\": \"나무\",        \"target_code\": \"57033\",        \"sense\": {          \"definition\": \"소 장수들의 은어로, 팔백 냥을 이르던 말.\",          \"link\": \"https://stdict.korean.go.kr/search/searchView.do?word_no=57033&searchKeywordTo=3\",          \"type\": \"일반어\"        },        \"pos\": \"명사\"      },      {        \"sup_no\": \"3\",        \"word\": \"나무\",        \"target_code\": \"57034\",        \"sense\": {          \"definition\": \"이양하가 지은 수필. 안분지족의 현인, 고독의 철인(哲人), 훌륭한 견인주의자(堅忍主義者)로 비유되는 나무의 속성을 통하여 지은이의 인생관을 표현하였다.\",          \"link\": \"https://stdict.korean.go.kr/search/searchView.do?word_no=57034&searchKeywordTo=3\",          \"type\": \"일반어\"        },        \"pos\": \"명사\"      },      {        \"sup_no\": \"4\",        \"word\": \"나무\",        \"target_code\": \"58013\",        \"sense\": {          \"definition\": \"돌아가 의지한다는 뜻으로, 믿고 받들며 순종함을 이르는 말. 부처나 보살들의 이름 앞에 붙인다.\",          \"link\": \"https://stdict.korean.go.kr/search/searchView.do?word_no=58013&searchKeywordTo=3\",          \"type\": \"일반어\"        },        \"pos\": \"명사\"      },      {        \"sup_no\": \"5\",        \"word\": \"나무\",        \"target_code\": \"58014\",        \"sense\": {          \"definition\": \"마음을 깨끗이 하고, 도를 닦는 장소를 깨끗이 한다는 뜻으로 추는 불교 의식 무용. 양손에 바라를 쥐고 배꼽을 중심으로 하여 머리 위로 들어 올리거나 좌우로 돌리고, 빠른 동작으로 전진, 후퇴, 회전하며 추는 춤으로 천수바라, 명바라, 사다라니바라, 관욕게바라, 막바라, 내림게바라가 있다.\",          \"link\": \"https://stdict.korean.go.kr/search/searchView.do?word_no=58014&searchKeywordTo=3\",          \"type\": \"일반어\"        },        \"pos\": \"명사\"      }    ],    \"link\": \"https://stdict.korean.go.kr\",    \"lastbuilddate\": \"20230828142152\"  }}\n"
          ]
        },
        {
          "data": {
            "text/plain": [
              "True"
            ]
          },
          "execution_count": 26,
          "metadata": {},
          "output_type": "execute_result"
        }
      ],
      "source": [
        "korword_in_dict('나무')"
      ]
    },
    {
      "cell_type": "code",
      "execution_count": 27,
      "metadata": {
        "colab": {
          "base_uri": "https://localhost:8080/"
        },
        "id": "KrwZvr0Hl2go",
        "outputId": "2df57680-1a52-452d-9c5b-086e02287597"
      },
      "outputs": [
        {
          "name": "stdout",
          "output_type": "stream",
          "text": [
            "\n"
          ]
        },
        {
          "data": {
            "text/plain": [
              "False"
            ]
          },
          "execution_count": 27,
          "metadata": {},
          "output_type": "execute_result"
        }
      ],
      "source": [
        "korword_in_dict('잼민이')"
      ]
    }
  ],
  "metadata": {
    "colab": {
      "provenance": []
    },
    "kernelspec": {
      "display_name": "Python 3",
      "name": "python3"
    },
    "language_info": {
      "name": "python"
    }
  },
  "nbformat": 4,
  "nbformat_minor": 0
}
