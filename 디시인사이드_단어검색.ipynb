{
  "cells": [
    {
      "cell_type": "code",
      "source": [
        "keyword_list = []\n",
        "with  open('/content/wikipedia_newwords.txt','r') as file:\n",
        "  line = file.readlines()\n",
        "  for i in line:\n",
        "    keyword_list.append(i.replace(\"\\n\",\"\"))\n",
        "    print(i.replace(\"\\n\",\"\"))"
      ],
      "metadata": {
        "id": "EVlnLNVuDEI2"
      },
      "execution_count": null,
      "outputs": []
    },
    {
      "cell_type": "code",
      "source": [
        "keyword_list[-11:]"
      ],
      "metadata": {
        "colab": {
          "base_uri": "https://localhost:8080/"
        },
        "id": "_tw-gKc1EKr-",
        "outputId": "8b32d6e8-c7c4-4d48-d3e9-5b365394cc12"
      },
      "execution_count": 20,
      "outputs": [
        {
          "output_type": "execute_result",
          "data": {
            "text/plain": [
              "['덕질', '레알', '박퀴벌레', '병맛', '짤방', '킹왕짱', '극대노', '먹방', '빵꾸똥꾸', '좋은가봉가', '케찹고백']"
            ]
          },
          "metadata": {},
          "execution_count": 20
        }
      ]
    },
    {
      "cell_type": "code",
      "source": [
        "!pip install selenium"
      ],
      "metadata": {
        "colab": {
          "base_uri": "https://localhost:8080/"
        },
        "id": "OnJZFifIDVZK",
        "outputId": "1f8c913a-0199-41b9-8c46-656387210cb3"
      },
      "execution_count": 15,
      "outputs": [
        {
          "output_type": "stream",
          "name": "stdout",
          "text": [
            "Installing collected packages: outcome, h11, wsproto, trio, trio-websocket, selenium\n",
            "Successfully installed h11-0.14.0 outcome-1.2.0 selenium-4.12.0 trio-0.22.2 trio-websocket-0.10.3 wsproto-1.2.0\n"
          ]
        }
      ]
    },
    {
      "cell_type": "markdown",
      "source": [
        "## 해당 단어 검색에 따른 검색결과 중 제목만 수집\n"
      ],
      "metadata": {
        "id": "ov5saZKJtiHz"
      }
    },
    {
      "cell_type": "code",
      "source": [
        "# 경고무시\n",
        "import warnings\n",
        "warnings.filterwarnings(action  = 'ignore')"
      ],
      "metadata": {
        "id": "_o0U2S2aFwom"
      },
      "execution_count": 17,
      "outputs": []
    },
    {
      "cell_type": "code",
      "execution_count": 21,
      "metadata": {
        "colab": {
          "base_uri": "https://localhost:8080/"
        },
        "id": "R5GVIH8mi7HI",
        "outputId": "bcf89e84-354f-4028-8ab5-404ae5c19e9d"
      },
      "outputs": [
        {
          "output_type": "stream",
          "name": "stdout",
          "text": [
            "덕질\n",
            "레알\n",
            "박퀴벌레\n",
            "병맛\n",
            "짤방\n",
            "킹왕짱\n",
            "극대노\n",
            "먹방\n",
            "빵꾸똥꾸\n",
            "좋은가봉가\n",
            "케찹고백\n"
          ]
        }
      ],
      "source": [
        "import requests\n",
        "from bs4 import BeautifulSoup\n",
        "import pandas as pd\n",
        "from selenium import webdriver\n",
        "from selenium.webdriver.chrome.options import Options as ChromeOptions\n",
        "\n",
        "for keyword in keyword_list:\n",
        "  print(keyword)\n",
        "  title_list = []\n",
        "  page=1\n",
        "\n",
        "  # 크롤링 수집부분\n",
        "  while True:\n",
        "    URL = f\"https://search.dcinside.com/post/p/{page}/sort/accuracy/q/{keyword}\"\n",
        "    #URL = f'https://search.dcinside.com/post/q/{keyword}'\n",
        "    headers = {    \"User-Agent\" : \"Mozilla/5.0 (Windows NT 10.0; Win64; x64) AppleWebKit/537.36 (KHTML, like Gecko) Chrome/90.0.4430.93 Safari/537.36\"     }\n",
        "    response = requests.get(URL,headers = headers)\n",
        "    soup = BeautifulSoup(response.text, 'html.parser')\n",
        "    li_tags = soup.select('.sch_result_list li')\n",
        "\n",
        "    # 멈춤조건\n",
        "    if page == 10 :\n",
        "      break# 새로 가져온 타이틀이 기존의 title_list에 존재한다\n",
        "\n",
        "    for li in li_tags:\n",
        "      title = li.select_one('a').text # 제목\n",
        "      title_list.append(title)\n",
        "      #print(title)\n",
        "    page +=1\n",
        "\n",
        "  for title in title_list[:200]:\n",
        "    new_data = {'keyword':keyword, 'title':title}\n",
        "    df = df.append(new_data, ignore_index = True)\n"
      ]
    },
    {
      "cell_type": "code",
      "source": [
        "new_df.to_csv('0906_데이터셋_content.csv', index = False)"
      ],
      "metadata": {
        "id": "gpg_7zgRH07U"
      },
      "execution_count": 33,
      "outputs": []
    },
    {
      "cell_type": "code",
      "source": [],
      "metadata": {
        "id": "IA8fkBexR6Qn"
      },
      "execution_count": null,
      "outputs": []
    }
  ],
  "metadata": {
    "colab": {
      "provenance": []
    },
    "kernelspec": {
      "display_name": "Python 3",
      "name": "python3"
    },
    "language_info": {
      "codemirror_mode": {
        "name": "ipython",
        "version": 3
      },
      "file_extension": ".py",
      "mimetype": "text/x-python",
      "name": "python",
      "nbconvert_exporter": "python",
      "pygments_lexer": "ipython3",
      "version": "3.10.9"
    }
  },
  "nbformat": 4,
  "nbformat_minor": 0
}