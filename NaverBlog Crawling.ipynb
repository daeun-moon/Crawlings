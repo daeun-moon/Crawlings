{
  "cells": [
    {
      "cell_type": "markdown",
      "metadata": {
        "id": "h6ehdIYIumSG"
      },
      "source": [
        "# NAVER OPEN API 활용하여 크롤링"
      ]
    },
    {
      "cell_type": "markdown",
      "metadata": {
        "id": "ES8APN8MOFcB"
      },
      "source": [
        "## 1. '검색어'에 따른 블로그 제목 & 링크 가져오기"
      ]
    },
    {
      "cell_type": "code",
      "execution_count": 3,
      "metadata": {
        "colab": {
          "base_uri": "https://localhost:8080/",
          "height": 216
        },
        "id": "m75BWxJt04MA",
        "outputId": "d7293464-6459-4c47-eafa-bcda0d2572e9"
      },
      "outputs": [
        {
          "name": "stdout",
          "output_type": "stream",
          "text": [
            "https://openapi.naver.com/v1/search/blog?query=2023%20%EC%8B%A0%EC%A1%B0%EC%96%B4%20%EB%AA%A8%EC%9D%8C&display=10\n",
            "<urllib.request.Request object at 0x00000226DFABD570>\n"
          ]
        }
      ],
      "source": [
        "import urllib.request\n",
        "from selenium.common.exceptions import NoSuchElementException\n",
        "from selenium import webdriver\n",
        "from selenium.webdriver.common.by import By\n",
        "from webdriver_manager.chrome import ChromeDriverManager\n",
        "\n",
        "\n",
        "# 웹드라이버 설정\n",
        "options = webdriver.ChromeOptions()\n",
        "options.add_experimental_option(\"excludeSwitches\", [\"enable-automation\"])\n",
        "options.add_experimental_option(\"useAutomationExtension\", False)\n",
        "\n",
        "# 정보입력\n",
        "client_id = \"*****\" # 발급받은 id 입력\n",
        "client_secret = \"**********\" # 발급받은 secret 입력\n",
        "quote = input(\"검색어를 입력해주세요.: \") #검색어 입력받기\n",
        "encText = urllib.parse.quote(quote)\n",
        "display_num = input(\"검색 출력결과 갯수를 적어주세요.(최대100, 숫자만 입력): \") #출력할 갯수 입력받기\n",
        "url = \"https://openapi.naver.com/v1/search/blog?query=\" + encText +\"&display=\"+display_num # json 결과\n",
        "# url = \"https://openapi.naver.com/v1/search/blog.xml?query=\" + encText # xml 결과\n",
        "print(url)\n",
        "request = urllib.request.Request(url)\n",
        "request.add_header(\"X-Naver-Client-Id\",client_id)\n",
        "request.add_header(\"X-Naver-Client-Secret\",client_secret)\n",
        "response = urllib.request.urlopen(request)\n",
        "rescode = response.getcode()\n",
        "print(request)\n",
        "if(rescode==200):\n",
        "    response_body = response.read()\n",
        "    #print(response_body.decode('utf-8'))\n",
        "else:\n",
        "    print(\"Error Code:\" + rescode)\n",
        "\n",
        "body = response_body.decode('utf-8')"
      ]
    },
    {
      "cell_type": "code",
      "execution_count": 4,
      "metadata": {
        "id": "asEQNzjz6WUc"
      },
      "outputs": [],
      "source": [
        "# 불필요한 \"\"(큰따옴표)지워주기\n",
        "body = body.replace('\"','')\n",
        "#body를 나누기\n",
        "list1 = body.split('\\n\\t\\t{\\n\\t\\t\\t')\n",
        "#naver블로그 글만 가져오기\n",
        "list1 = [i for i in list1 if 'naver' in i]"
      ]
    },
    {
      "cell_type": "code",
      "execution_count": 5,
      "metadata": {
        "id": "R9x9gJanumSM",
        "outputId": "bd6de95e-2145-42b1-f351-b7f30849093e"
      },
      "outputs": [
        {
          "data": {
            "text/plain": [
              "\"title:<b>2023 신조어 모음<\\\\/b>,\\n\\t\\t\\tlink:https:\\\\/\\\\/blog.naver.com\\\\/azeza\\\\/223170103447,\\n\\t\\t\\tdescription:중요한 건 꺾이지 않는 마음'이라는 제목을 붙여 기사화했는데 이게 커뮤니티에서 화제가 되면서 퍼져나갔다. 여기까지 <b>2023 신조어 모음<\\\\/b>이었다. #2023신조어 #요즘신조어 #신조어모음 #올해신조어,\\n\\t\\t\\tbloggername:유비의 마케팅 인사이트,\\n\\t\\t\\tbloggerlink:blog.naver.com\\\\/azeza,\\n\\t\\t\\tpostdate:20230730\\n\\t\\t},\""
            ]
          },
          "execution_count": 5,
          "metadata": {},
          "output_type": "execute_result"
        }
      ],
      "source": [
        "list1[0]"
      ]
    },
    {
      "cell_type": "code",
      "execution_count": 6,
      "metadata": {
        "colab": {
          "base_uri": "https://localhost:8080/"
        },
        "id": "7pvfbL5c6Zgw",
        "outputId": "7d2c4a53-805e-49c9-d137-06b29968d83d"
      },
      "outputs": [
        {
          "name": "stdout",
          "output_type": "stream",
          "text": [
            "<<제목 모음>>\n",
            "['<b>2023 신조어 모음<\\\\/b>', '<b>2023 신조어 모음<\\\\/b>, 잡채 뜻은?', '<b>2023 신조어 모음<\\\\/b>! 농협은행 밈 무슨 뜻일까요?', '모르면 손해보는 <b>2023<\\\\/b> 부동산 <b>신조어 모음<\\\\/b> 2탄', '<b>2023 신조어 모음<\\\\/b>, 꾸웨액 뜻? 알아보자!', '요즘 사람 테스트 알 수가 없는 <b>2023 신조어 모음<\\\\/b> 퀴즈', '<b>2023 신조어<\\\\/b> 많이 사용하는 단어 <b>모음<\\\\/b>', '<b>신조어 모음<\\\\/b>, <b>2023<\\\\/b>년 MZ세대 따라잡기!', '폼 미쳤다 뜻? <b>2023 신조어 모음<\\\\/b>!', '<b>2023 신조어 모음<\\\\/b> 베스트만 정리']\n",
            "총 제목 수:  10 개\n",
            "\n",
            "<<링크 모음>>\n",
            "['https:\\\\/\\\\/blog.naver.com\\\\/azeza\\\\/223170103447', 'https:\\\\/\\\\/blog.naver.com\\\\/gurwn1725\\\\/223158156447', 'https:\\\\/\\\\/blog.naver.com\\\\/renedelucy\\\\/223167804879', 'https:\\\\/\\\\/blog.naver.com\\\\/pobain\\\\/223132718444', 'https:\\\\/\\\\/blog.naver.com\\\\/19cmall\\\\/223139936261', 'https:\\\\/\\\\/blog.naver.com\\\\/cosreader\\\\/223087008223', 'https:\\\\/\\\\/blog.naver.com\\\\/helpbri\\\\/223151816220', 'https:\\\\/\\\\/blog.naver.com\\\\/luvpp00\\\\/223119309626', 'https:\\\\/\\\\/blog.naver.com\\\\/hactoefl\\\\/223048122766', 'https:\\\\/\\\\/blog.naver.com\\\\/ssgh8890\\\\/223149028756']\n",
            "총 링크 수:  10 개\n",
            "\n",
            "<<날짜 모음>>\n",
            "['postdate:20230730', 'postdate:20230717', 'postdate:20230727', 'postdate:20230619', 'postdate:20230627', 'postdate:20230427', 'postdate:20230710', 'postdate:20230603', 'postdate:20230318', 'postdate:20230706']\n",
            "총 날짜 수:  10 개\n"
          ]
        }
      ],
      "source": [
        "#블로그 제목, 링크 뽑기\n",
        "import re\n",
        "titles = []\n",
        "links = []\n",
        "postdates = []\n",
        "for i in list1:\n",
        "  title = re.findall('title:(.*?)\\n', i)\n",
        "  link = re.findall('link:(.*?)\\n\\t\\t\\tdescription', i)\n",
        "  postdate = re.findall('postdate:\\d{4}\\d{2}\\d{2}\\\\n',i)\n",
        "  titles.append(title)\n",
        "  links.append(link)\n",
        "  postdates.append(postdate)\n",
        "titles = [r[:-1] for i in titles for r in i]\n",
        "links = [r[:-1] for i in links for r in i]\n",
        "postdates = [r[:-1] for i in postdates for r in i]\n",
        "\n",
        "print('<<제목 모음>>')\n",
        "print(titles)\n",
        "print('총 제목 수: ',len(titles),'개')#제목갯수확인\n",
        "\n",
        "print('\\n<<링크 모음>>')\n",
        "print(links)\n",
        "print('총 링크 수: ',len(links),'개')#링크갯수확인\n",
        "\n",
        "print('\\n<<날짜 모음>>')\n",
        "print(postdates)\n",
        "print('총 날짜 수: ',len(postdates),'개')#링크갯수확인"
      ]
    },
    {
      "cell_type": "code",
      "execution_count": 7,
      "metadata": {
        "colab": {
          "base_uri": "https://localhost:8080/"
        },
        "id": "WbwvsfGV7BOg",
        "outputId": "aea9d95c-233d-4b59-d507-1f549fd90abd"
      },
      "outputs": [
        {
          "name": "stdout",
          "output_type": "stream",
          "text": [
            "['https://blog.naver.com/azeza/223170103447', 'https://blog.naver.com/gurwn1725/223158156447', 'https://blog.naver.com/renedelucy/223167804879', 'https://blog.naver.com/pobain/223132718444', 'https://blog.naver.com/19cmall/223139936261', 'https://blog.naver.com/cosreader/223087008223', 'https://blog.naver.com/helpbri/223151816220', 'https://blog.naver.com/luvpp00/223119309626', 'https://blog.naver.com/hactoefl/223048122766', 'https://blog.naver.com/ssgh8890/223149028756']\n",
            "생성된 링크 갯수: 10 개\n"
          ]
        }
      ],
      "source": [
        "# 링크를 다듬기 (필요없는 부분 제거 및 수정)\n",
        "blog_links = []\n",
        "for i in links:\n",
        "    a = i.replace('\\\\','')\n",
        "    b = a.replace('?Redirect=Log&logNo=','/')\n",
        "    blog_links.append(b)\n",
        "\n",
        "print(blog_links)\n",
        "print('생성된 링크 갯수:',len(blog_links),'개')"
      ]
    },
    {
      "cell_type": "markdown",
      "metadata": {
        "id": "Ce7V5uJgOLXJ"
      },
      "source": [
        "## 2. 본문 가져오기"
      ]
    },
    {
      "cell_type": "code",
      "execution_count": 8,
      "metadata": {
        "colab": {
          "base_uri": "https://localhost:8080/",
          "height": 766
        },
        "id": "Y3gP4j_NORhU",
        "outputId": "f68ff44c-7081-4982-d23b-ae3ed544e4d8"
      },
      "outputs": [
        {
          "name": "stderr",
          "output_type": "stream",
          "text": [
            "C:\\Users\\daeun\\AppData\\Local\\Temp\\ipykernel_28164\\846591468.py:8: DeprecationWarning: executable_path has been deprecated, please pass in a Service object\n",
            "  driver = webdriver.Chrome(os.path.abspath('chromedriver'))\n",
            "Error getting version of chromedriver 115. Retrying with chromedriver 114 (attempt 1/5)\n"
          ]
        },
        {
          "name": "stdout",
          "output_type": "stream",
          "text": [
            "<<본문 크롤링이 완료되었습니다.>>\n"
          ]
        }
      ],
      "source": [
        "#본문 크롤링\n",
        "import time\n",
        "import os\n",
        "from selenium.webdriver.common.by import By\n",
        "from bs4 import BeautifulSoup\n",
        "from selenium.common.exceptions import NoSuchElementException\n",
        "\n",
        "driver = webdriver.Chrome(os.path.abspath('chromedriver'))\n",
        "driver.implicitly_wait(3)\n",
        "\n",
        "#블로그 링크 하나씩 불러서 크롤링\n",
        "contents = []\n",
        "for link in blog_links:\n",
        "  #블로그 링크 하나씩 불러오기\n",
        "  driver.get(link)\n",
        "  time.sleep(1)\n",
        "\n",
        "  #블로그 안 본문이 있는 iframe에 접근하기\n",
        "  driver.switch_to.frame(\"mainFrame\")\n",
        "\n",
        "  #본문 내용 크롤링하기\n",
        "  try:\n",
        "    a = driver.find_element(By.CLASS_NAME, \"se-main-container\").text\n",
        "    contents.append(a)\n",
        "\n",
        "  except NoSuchElementException:\n",
        "    a = driver.find_element(By.CSS_SELECTOR, \"div#content-area\").text\n",
        "    contents.append(a)\n",
        "  #print(본문: \\n', a)\n",
        "\n",
        "driver.quit() #창닫기\n",
        "print(\"<<본문 크롤링이 완료되었습니다.>>\")"
      ]
    },
    {
      "cell_type": "markdown",
      "metadata": {
        "id": "BiHuVWjWumSN"
      },
      "source": [
        "## 3. 크롤링 내용들 DataFrame으로 만들기"
      ]
    },
    {
      "cell_type": "code",
      "execution_count": 9,
      "metadata": {
        "id": "Wx4s3avCumSN",
        "outputId": "1f752e0d-ea58-496a-a273-758d7004bb13"
      },
      "outputs": [
        {
          "data": {
            "text/html": [
              "<div>\n",
              "<style scoped>\n",
              "    .dataframe tbody tr th:only-of-type {\n",
              "        vertical-align: middle;\n",
              "    }\n",
              "\n",
              "    .dataframe tbody tr th {\n",
              "        vertical-align: top;\n",
              "    }\n",
              "\n",
              "    .dataframe thead th {\n",
              "        text-align: right;\n",
              "    }\n",
              "</style>\n",
              "<table border=\"1\" class=\"dataframe\">\n",
              "  <thead>\n",
              "    <tr style=\"text-align: right;\">\n",
              "      <th></th>\n",
              "      <th>Title</th>\n",
              "      <th>Link</th>\n",
              "      <th>Content</th>\n",
              "    </tr>\n",
              "  </thead>\n",
              "  <tbody>\n",
              "    <tr>\n",
              "      <th>0</th>\n",
              "      <td>&lt;b&gt;2023 신조어 모음&lt;\\/b&gt;</td>\n",
              "      <td>https://blog.naver.com/azeza/223170103447</td>\n",
              "      <td>2023 신조어 모음\\n신조어\\n표준어로 등재되지 않은 'New 단어'\\n© sin...</td>\n",
              "    </tr>\n",
              "    <tr>\n",
              "      <th>1</th>\n",
              "      <td>&lt;b&gt;2023 신조어 모음&lt;\\/b&gt;, 잡채 뜻은?</td>\n",
              "      <td>https://blog.naver.com/gurwn1725/223158156447</td>\n",
              "      <td>© rossfindon, 출처 Unsplash\\n요새는 알쏭달쏭한 신조어들이 꽤 많...</td>\n",
              "    </tr>\n",
              "    <tr>\n",
              "      <th>2</th>\n",
              "      <td>&lt;b&gt;2023 신조어 모음&lt;\\/b&gt;! 농협은행 밈 무슨 뜻일까요?</td>\n",
              "      <td>https://blog.naver.com/renedelucy/223167804879</td>\n",
              "      <td>여러분들 안녕하세요!\\n늘 유익하고 재미있는 정보 전해드리는\\n원더베이프 문정점 인...</td>\n",
              "    </tr>\n",
              "    <tr>\n",
              "      <th>3</th>\n",
              "      <td>모르면 손해보는 &lt;b&gt;2023&lt;\\/b&gt; 부동산 &lt;b&gt;신조어 모음&lt;\\/b&gt; 2탄</td>\n",
              "      <td>https://blog.naver.com/pobain/223132718444</td>\n",
              "      <td>부동산! 모르면 코 베가는 세상?!\\n부동산 신조어에는 어떤 말이 있을까? 2탄\\n...</td>\n",
              "    </tr>\n",
              "    <tr>\n",
              "      <th>4</th>\n",
              "      <td>&lt;b&gt;2023 신조어 모음&lt;\\/b&gt;, 꾸웨액 뜻? 알아보자!</td>\n",
              "      <td>https://blog.naver.com/19cmall/223139936261</td>\n",
              "      <td>요즘 많이 쓰는 신조어 모음 10가지를 소개해드리려고 합니다.\\n요즘이라고는 했지만...</td>\n",
              "    </tr>\n",
              "    <tr>\n",
              "      <th>5</th>\n",
              "      <td>요즘 사람 테스트 알 수가 없는 &lt;b&gt;2023 신조어 모음&lt;\\/b&gt; 퀴즈</td>\n",
              "      <td>https://blog.naver.com/cosreader/223087008223</td>\n",
              "      <td>요즘 사람 테스트는 아무도\\n알 수가 없는 2023년 신조어를\\n새롭게 경험할 수 ...</td>\n",
              "    </tr>\n",
              "    <tr>\n",
              "      <th>6</th>\n",
              "      <td>&lt;b&gt;2023 신조어&lt;\\/b&gt; 많이 사용하는 단어 &lt;b&gt;모음&lt;\\/b&gt;</td>\n",
              "      <td>https://blog.naver.com/helpbri/223151816220</td>\n",
              "      <td>길 가다보면 젊은 사람이나 초중고등 학생들이 많이 보이는데요.\\n길뿐만 아니라 지하...</td>\n",
              "    </tr>\n",
              "    <tr>\n",
              "      <th>7</th>\n",
              "      <td>&lt;b&gt;신조어 모음&lt;\\/b&gt;, &lt;b&gt;2023&lt;\\/b&gt;년 MZ세대 따라잡기!</td>\n",
              "      <td>https://blog.naver.com/luvpp00/223119309626</td>\n",
              "      <td>신조어 모음, 2023년 MZ세대 따라잡기!\\n안녕하세요! 봄나리입니다. 급변하는 ...</td>\n",
              "    </tr>\n",
              "    <tr>\n",
              "      <th>8</th>\n",
              "      <td>폼 미쳤다 뜻? &lt;b&gt;2023 신조어 모음&lt;\\/b&gt;!</td>\n",
              "      <td>https://blog.naver.com/hactoefl/223048122766</td>\n",
              "      <td>안녕하세요, 해커스유학 블로그지기입니다.\\n얼마 전 종영한 '빨간풍선'에서\\n나온 ...</td>\n",
              "    </tr>\n",
              "    <tr>\n",
              "      <th>9</th>\n",
              "      <td>&lt;b&gt;2023 신조어 모음&lt;\\/b&gt; 베스트만 정리</td>\n",
              "      <td>https://blog.naver.com/ssgh8890/223149028756</td>\n",
              "      <td>생각해 보면 어렸을 때부터 신조어는\\n존재해 왔던 것 같습니다.\\n하지만 MZ 세대...</td>\n",
              "    </tr>\n",
              "  </tbody>\n",
              "</table>\n",
              "</div>"
            ],
            "text/plain": [
              "                                         Title  \\\n",
              "0                          <b>2023 신조어 모음<\\/b>   \n",
              "1                  <b>2023 신조어 모음<\\/b>, 잡채 뜻은?   \n",
              "2         <b>2023 신조어 모음<\\/b>! 농협은행 밈 무슨 뜻일까요?   \n",
              "3  모르면 손해보는 <b>2023<\\/b> 부동산 <b>신조어 모음<\\/b> 2탄   \n",
              "4            <b>2023 신조어 모음<\\/b>, 꾸웨액 뜻? 알아보자!   \n",
              "5     요즘 사람 테스트 알 수가 없는 <b>2023 신조어 모음<\\/b> 퀴즈   \n",
              "6       <b>2023 신조어<\\/b> 많이 사용하는 단어 <b>모음<\\/b>   \n",
              "7     <b>신조어 모음<\\/b>, <b>2023<\\/b>년 MZ세대 따라잡기!   \n",
              "8                폼 미쳤다 뜻? <b>2023 신조어 모음<\\/b>!   \n",
              "9                  <b>2023 신조어 모음<\\/b> 베스트만 정리   \n",
              "\n",
              "                                             Link  \\\n",
              "0       https://blog.naver.com/azeza/223170103447   \n",
              "1   https://blog.naver.com/gurwn1725/223158156447   \n",
              "2  https://blog.naver.com/renedelucy/223167804879   \n",
              "3      https://blog.naver.com/pobain/223132718444   \n",
              "4     https://blog.naver.com/19cmall/223139936261   \n",
              "5   https://blog.naver.com/cosreader/223087008223   \n",
              "6     https://blog.naver.com/helpbri/223151816220   \n",
              "7     https://blog.naver.com/luvpp00/223119309626   \n",
              "8    https://blog.naver.com/hactoefl/223048122766   \n",
              "9    https://blog.naver.com/ssgh8890/223149028756   \n",
              "\n",
              "                                             Content  \n",
              "0  2023 신조어 모음\\n신조어\\n표준어로 등재되지 않은 'New 단어'\\n© sin...  \n",
              "1  © rossfindon, 출처 Unsplash\\n요새는 알쏭달쏭한 신조어들이 꽤 많...  \n",
              "2  여러분들 안녕하세요!\\n늘 유익하고 재미있는 정보 전해드리는\\n원더베이프 문정점 인...  \n",
              "3  부동산! 모르면 코 베가는 세상?!\\n부동산 신조어에는 어떤 말이 있을까? 2탄\\n...  \n",
              "4  요즘 많이 쓰는 신조어 모음 10가지를 소개해드리려고 합니다.\\n요즘이라고는 했지만...  \n",
              "5  요즘 사람 테스트는 아무도\\n알 수가 없는 2023년 신조어를\\n새롭게 경험할 수 ...  \n",
              "6  길 가다보면 젊은 사람이나 초중고등 학생들이 많이 보이는데요.\\n길뿐만 아니라 지하...  \n",
              "7  신조어 모음, 2023년 MZ세대 따라잡기!\\n안녕하세요! 봄나리입니다. 급변하는 ...  \n",
              "8  안녕하세요, 해커스유학 블로그지기입니다.\\n얼마 전 종영한 '빨간풍선'에서\\n나온 ...  \n",
              "9  생각해 보면 어렸을 때부터 신조어는\\n존재해 왔던 것 같습니다.\\n하지만 MZ 세대...  "
            ]
          },
          "execution_count": 9,
          "metadata": {},
          "output_type": "execute_result"
        }
      ],
      "source": [
        "#제목, 블로그링크, 본문내용 Dataframe으로 만들기\n",
        "import pandas as pd\n",
        "df = pd.DataFrame({'Title':titles, 'Link':blog_links,'Content':contents})\n",
        "df\n",
        "#df 저장\n",
        "# df.to_csv('{}_블로그.csv'.format(quote),encoding='utf-8-sig',index=False)"
      ]
    },
    {
      "cell_type": "code",
      "execution_count": 10,
      "metadata": {
        "id": "O3T1OahHumSO",
        "outputId": "6569104d-8f07-41aa-e751-90b50fd57ba6"
      },
      "outputs": [
        {
          "data": {
            "text/plain": [
              "'2023 신조어 모음\\n신조어\\n표준어로 등재되지 않은 \\'New 단어\\'\\n© sincerelymedia, 출처 Unsplash\\n신조어는 새롭게 만들어진 단어 및 용어이나, 표준어로 등재되지 않은 말을 뜻한다. 신조어의 사용자 수가 늘어나고, 자주 언급되면서 다수의 인원이 명확한 의미로 신조어를 사용할 경우 표준어로 인정된다. 하지만 일시적인 유행에 불과하거나 표준어의 조건을 만족시키지 못한다면 그대로 잊힌다.\\n2023년,\\n새롭게 떠오른 단어는?\\n2023 신조어 모음\\n그렇다면 2023년에 새롭게 등장한 단어는 어떤 것들이 있을까? 지금부터 알아보자.\\n2023 신조어\\n1) 점메추\\n© hermez777, 출처 Unsplash\\n오늘 점메추 해줘\\n(자매품: 저메추)\\n무슨 뜻일까?\\n첫 번째 신조어는 점메추다. 자매품으로 \\'저메추\\'가 있다. 점메추는 점심메뉴추천의 줄임말로, 점메추 해줘=점심메뉴 추천해달라는 뜻이다. 점심 메뉴 선택은 모든 사람들의 고민인가 보다\\n© jaywennington, 출처 Unsplash\\n저메추는 저녁메뉴추천의 줄임말이다. 이런 원리면 아침 메뉴 추천은 아메추일 것 같은데, 아메추라는 말은 거의 안 쓰이는 것 같았다.\\n2023 신조어\\n2) 오뱅알\\n두 번째 2023 신조어는 오뱅알이다. 오뱅알은 \\'오늘 방송 알찼다\\'의 줄임말이다. 한 유명 스트리머의 트위치 방송에서 스트리머가 방송을 \\'뱅송\\'이라고 찰지게 발음한 데서 유래했다.\\n출처: 캐릿\\n여담으로 캐릿의 2023 트렌드 능력고사에 이런 문제가 있는데, 처음엔 오픈 뱅킹 알림이나 오! 방금 알았어인 줄 알았다. 저것도 나름 그럴듯한 답변이 아닌가? ㅎㅎ\\n2023 신조어\\n3) 스불재\\n© abhijeet_gourav, 출처 Unsplash\\n어쩐지 문화유산의 이름일 것 같은 스불재는 스스로 불러온 재앙의 줄임말로 과한 욕심을 부르다가 쓴맛을 보았을 때 사용하는 용어다. 예시를 들면, 중요한 약속 전 날 새벽에 라면이 땡겨서 먹었는데 다음날 얼굴이 무지막지하게 부었다면 \\'스불재\\'인 것이다.\\n2023 신조어\\n4) 싫존 - 싫존주의\\n싫존은 싫어하는 것을 존중해달라의 줄임말이다. 싫어도 Yes를 외치는 대신 싫은 건 싫고 아닌 건 아니라고 확실히 말할 기회를 달라는 뜻. 2021년 3월 발행된 <싫존주의자 선언>의 책 소개에는 이런 문장이 있다.\\n이 책은 기성세대들에게 좀 더 예민한 감각을 가지고\\n세상을 바라보는 MZ 세대의 관점을 이해할 수 있게 한다.\\n그리고 작가처럼 사회가 강요하는 기준과 원칙에\\n불편감을 느끼면서도 홀로 삭히고 있던 사람들에겐\\n의문을 제기하고 목소리를 낼 수 있는 용기를 준다.\\n더 나은 세상은 그냥 오지 않는다.\\n예민한 감각을 가지고 불편한 것들에 대해\\n더 많이 이야기해야 한다.\\n우리에겐 더 많은 싫존주의자들이 필요하다.\\n- 싫존주의자 선언 中\\n2023 신조어\\n5) 디토합니다\\n출처: 네이버 사전\\n다섯 번째 2023 신조어는 Ditto다. 디토는 라틴어로 \\'동의\\'를 뜻한다. 그래서 디토합니다=동의합니다 라는 의미가 된다. 공감을 표현할 때 \\'디토한다\\'는 표현을 사용할 수 있다.\\n이 신조어는 걸그룹 뉴진스의 싱글 앨범 OMG의 수록곡 Ditto(디토)가 인기를 끌면서 널리 퍼진 게 아닐까 추측해 본다. 여담으로 디토의 반대말은 비토(Veto·반대)이므로, 동의하지 않을 땐 \"비토합니다\"라고 말할 수도 있다.\\n2023 신조어\\n6) 파산핑\\n출처: 티니핑\\n파산핑, 거덜핑, 등골핑, 거지핑, 캐쉬핑은 캐릭터 티니핑을 지칭하는 용어다. 어린이들 사이에서 최고 인기를 누리는 \\'캐치! 티니핑\\'에선 신제품이 끝없이 출시되는데다가 시즌마다 새로운 캐릭터가 등장해서 부모의 잔고가 남아나지 않기 때문에 이런 별명이 붙었다.\\n출처: 스브스 뉴스\\n하.. 파산핑 시작됐네요\\n제발 우리 아이 눈에 안 띄길 바랍니다\\n- 스브스 뉴스\\n2023 신조어\\n7) 중꺽마\\n출처: KBS\\n마지막 2023 신조어는 중꺽마다. 중꺽마는 \\'중요한 것은 꺾이지 않는 마음\\'의 줄임말로 일각에서는 중꺾마로도 부른다. 이 용어는 2022년 롤 월드 챔피언십을 보도한 기사 제목에서 유래되었는데, 리그 오브 레전드의 프로게이머 데프트 선수는 1라운드에서 패배한 뒤, 기자와 인터뷰를 진행하면서 이런 말을 했다.\\n오늘 지긴 했지만 저희끼리만 안 무너지면\\n충분히 이길 수 있을 것 같아요\\n- 데프트와 기자의 인터뷰 내용\\n출처: 쿠키뉴스 트위터\\n데프트는 비록 1라운드는 패배했지만 팀끼리 단합한다면 충분히 이길 수 있을 것이라고 답했고, 이후 불리한 상황을 극복하며 결국 드라마틱하게 우승한다. 쿠키뉴스는 이 상황을 DRX 데프트 \\'로그전 패배 괜찮아. 중요한 건 꺾이지 않는 마음\\'이라는 제목을 붙여 기사화했는데 이게 커뮤니티에서 화제가 되면서 퍼져나갔다.\\n여기까지 2023 신조어\\n모음이었다.\\n#2023신조어\\n#요즘신조어\\n#신조어모음\\n#올해신조어'"
            ]
          },
          "execution_count": 10,
          "metadata": {},
          "output_type": "execute_result"
        }
      ],
      "source": [
        "df.loc[0].Content"
      ]
    },
    {
      "cell_type": "code",
      "execution_count": null,
      "metadata": {
        "id": "tLJ8M6ClumSO"
      },
      "outputs": [],
      "source": []
    },
    {
      "cell_type": "markdown",
      "metadata": {
        "id": "ecitYR_SumSO"
      },
      "source": [
        "# API 사용하지 않고 Selenium으로 크롤링"
      ]
    },
    {
      "cell_type": "markdown",
      "metadata": {
        "id": "T_1cH3weuzvt"
      },
      "source": [
        "## 검색어, 옵션 설정 가능"
      ]
    },
    {
      "cell_type": "code",
      "execution_count": 11,
      "metadata": {
        "id": "sHJSLngWumSO"
      },
      "outputs": [],
      "source": [
        "#Step 0. 필요한 모듈과 라이브러리를 로딩합니다.\n",
        "import sys # 시스템\n",
        "import os  # 시스템\n",
        "\n",
        "import pandas as pd  # 판다스 : 데이터분석 라이브러리\n",
        "import numpy as np   # 넘파이 : 숫자, 행렬 데이터 라이브러리\n",
        "\n",
        "from bs4 import BeautifulSoup    # html 데이터를 전처리\n",
        "from selenium import webdriver   # 웹 브라우저 자동화\n",
        "from selenium.webdriver.common.keys import Keys\n",
        "import chromedriver_autoinstaller # 크롬 드라이버 자동설치\n",
        "\n",
        "import time    # 서버와 통신할 때 중간중간 시간 지연. 보통은 1초\n",
        "from tqdm import tqdm_notebook   # for문 돌릴 때 진행상황을 %게이지로 알려준다.\n",
        "\n",
        "# 워닝 무시\n",
        "import warnings\n",
        "warnings.filterwarnings('ignore')"
      ]
    },
    {
      "cell_type": "code",
      "execution_count": 30,
      "metadata": {
        "id": "DUAUI8p-umSO"
      },
      "outputs": [],
      "source": [
        "query_txt = input('1.크롤링할 키워드는 무엇입니까?: ')"
      ]
    },
    {
      "cell_type": "code",
      "execution_count": 31,
      "metadata": {
        "id": "mF7OOzlAumSO"
      },
      "outputs": [],
      "source": [
        "# Step 1. 크롬 웹브라우저 실행\n",
        "driver = webdriver.Chrome(os.path.abspath('chromedriver'))\n",
        "# 사이트 주소는 네이버\n",
        "driver.get('http://www.naver.com')\n",
        "time.sleep(1)  # 1초간 정지"
      ]
    },
    {
      "cell_type": "code",
      "execution_count": 32,
      "metadata": {
        "id": "QiDoM0kwumSO"
      },
      "outputs": [],
      "source": [
        "# Step 2. 네이버 검색창에 \"검색어\" 검색\n",
        "from selenium.webdriver.common.by import By\n",
        "element = driver.find_element(By.ID, \"query\")\n",
        "element.send_keys(query_txt)  # query_txt는 위에서 입력한 키워드\n",
        "element.submit() # 검색어 제출\n",
        "time.sleep(1)"
      ]
    },
    {
      "cell_type": "code",
      "execution_count": 33,
      "metadata": {
        "id": "91hWj22pumSP"
      },
      "outputs": [],
      "source": [
        "# 'VIEW' 클릭\n",
        "driver.find_element(By.LINK_TEXT, '블로그').click()\n",
        "time.sleep(1)\n",
        "# '옵션' 클릭\n",
        "driver.find_element(By.LINK_TEXT, '옵션').click()\n",
        "time.sleep(1)"
      ]
    },
    {
      "cell_type": "code",
      "execution_count": 34,
      "metadata": {
        "id": "RmKXduUeumSP",
        "outputId": "1fea67f3-c8e0-4093-c54c-e893c02e6206"
      },
      "outputs": [
        {
          "name": "stdout",
          "output_type": "stream",
          "text": [
            "0 전체\n",
            "1 블로그\n",
            "2 카페\n",
            "3 관련도순\n",
            "4 최신순\n",
            "5 전체\n",
            "6 1시간\n",
            "7 1일\n",
            "8 1주\n",
            "9 1개월\n",
            "10 3개월\n",
            "11 6개월\n",
            "12 1년\n",
            "13 직접입력옵션펼치기\n"
          ]
        }
      ],
      "source": [
        "item_li = driver.find_elements(By.CSS_SELECTOR,'.option .txt' )\n",
        "for i in range(0, len(item_li)):\n",
        "    print(i, item_li[i].text)"
      ]
    },
    {
      "cell_type": "code",
      "execution_count": 35,
      "metadata": {
        "id": "Ck4fx6E4umSP"
      },
      "outputs": [],
      "source": [
        "# 원하는 옵션 선택해서 클릭!\n",
        "item_li[9].click()"
      ]
    },
    {
      "cell_type": "code",
      "execution_count": 36,
      "metadata": {
        "id": "9WzSCpq3umSP"
      },
      "outputs": [],
      "source": [
        "# 스크롤을 밑으로 내려주는 함수\n",
        "def scroll_down(driver):\n",
        "    driver.execute_script(\"window.scrollTo(0, 99999999)\")\n",
        "    time.sleep(1)\n",
        "\n",
        "# n: 스크롤할 횟수 설정\n",
        "n = 2  # 스크롤 1번 당 글 30개씩 화면에 보여짐\n",
        "i = 0\n",
        "while i < n: # 이 조건이 만족되는 동안 반복 실행\n",
        "    scroll_down(driver) # 스크롤 다운\n",
        "    i = i+1"
      ]
    },
    {
      "cell_type": "code",
      "execution_count": 37,
      "metadata": {
        "id": "bOydG9d3umSP",
        "outputId": "d1653acf-9c45-4567-dd8b-c09dd341f54b"
      },
      "outputs": [
        {
          "name": "stdout",
          "output_type": "stream",
          "text": [
            "https://blog.naver.com/gurwn1725/223158156447\n"
          ]
        }
      ],
      "source": [
        "# URL_raw 크롤링 시작\n",
        "articles = \".api_txt_lines.total_tit\"\n",
        "article_raw = driver.find_elements(By.CSS_SELECTOR, articles )\n",
        "#print(article_raw[1].text) # title\n",
        "print(article_raw[1].get_attribute('href')) # link\n",
        "driver.quit() # 창닫기\n"
      ]
    },
    {
      "cell_type": "code",
      "execution_count": 40,
      "metadata": {
        "id": "3Y-Gsb16umSP",
        "outputId": "c5de1fe9-19fa-40e6-fcaf-498864841a0b"
      },
      "outputs": [
        {
          "name": "stdout",
          "output_type": "stream",
          "text": [
            "url 개수:  22\n"
          ]
        }
      ],
      "source": [
        "# 블로그 글 url들 수집\n",
        "url_list = []\n",
        "# 크롤링한 url 정제 시작\n",
        "for article in article_raw:\n",
        "    url = article.get_attribute('href')\n",
        "    if 'blog.naver.com' in url:\n",
        "        url_list.append(url)\n",
        "print('url 개수: ', len(url_list))\n",
        "\n"
      ]
    },
    {
      "cell_type": "markdown",
      "metadata": {
        "id": "mh0LI7_-u5XT"
      },
      "source": [
        "## 크롤링 내용들 DataFrame으로 만들기"
      ]
    },
    {
      "cell_type": "code",
      "execution_count": 41,
      "metadata": {
        "id": "LDl7iMTLumSP",
        "outputId": "41ef550b-d52e-4e01-97ca-9fcfafdbb754"
      },
      "outputs": [
        {
          "data": {
            "text/html": [
              "<div>\n",
              "<style scoped>\n",
              "    .dataframe tbody tr th:only-of-type {\n",
              "        vertical-align: middle;\n",
              "    }\n",
              "\n",
              "    .dataframe tbody tr th {\n",
              "        vertical-align: top;\n",
              "    }\n",
              "\n",
              "    .dataframe thead th {\n",
              "        text-align: right;\n",
              "    }\n",
              "</style>\n",
              "<table border=\"1\" class=\"dataframe\">\n",
              "  <thead>\n",
              "    <tr style=\"text-align: right;\">\n",
              "      <th></th>\n",
              "      <th>url</th>\n",
              "    </tr>\n",
              "  </thead>\n",
              "  <tbody>\n",
              "    <tr>\n",
              "      <th>0</th>\n",
              "      <td>https://blog.naver.com/azeza/223170103447</td>\n",
              "    </tr>\n",
              "    <tr>\n",
              "      <th>1</th>\n",
              "      <td>https://blog.naver.com/gurwn1725/223158156447</td>\n",
              "    </tr>\n",
              "    <tr>\n",
              "      <th>2</th>\n",
              "      <td>https://blog.naver.com/pobain/223153257303</td>\n",
              "    </tr>\n",
              "    <tr>\n",
              "      <th>3</th>\n",
              "      <td>https://blog.naver.com/renedelucy/223167804879</td>\n",
              "    </tr>\n",
              "    <tr>\n",
              "      <th>4</th>\n",
              "      <td>https://blog.naver.com/notsilly/223153225029</td>\n",
              "    </tr>\n",
              "    <tr>\n",
              "      <th>5</th>\n",
              "      <td>https://blog.naver.com/contopia/223172996246</td>\n",
              "    </tr>\n",
              "    <tr>\n",
              "      <th>6</th>\n",
              "      <td>https://blog.naver.com/helpbri/223151816220</td>\n",
              "    </tr>\n",
              "    <tr>\n",
              "      <th>7</th>\n",
              "      <td>https://blog.naver.com/qkqlqmfkdns32/223169237891</td>\n",
              "    </tr>\n",
              "    <tr>\n",
              "      <th>8</th>\n",
              "      <td>https://blog.naver.com/livemoney2007/223163251399</td>\n",
              "    </tr>\n",
              "    <tr>\n",
              "      <th>9</th>\n",
              "      <td>https://blog.naver.com/fairy0264/223153346618</td>\n",
              "    </tr>\n",
              "    <tr>\n",
              "      <th>10</th>\n",
              "      <td>https://blog.naver.com/i0i_i0i_i0i/223152564027</td>\n",
              "    </tr>\n",
              "    <tr>\n",
              "      <th>11</th>\n",
              "      <td>https://blog.naver.com/soosoo_oo_/223159918468</td>\n",
              "    </tr>\n",
              "    <tr>\n",
              "      <th>12</th>\n",
              "      <td>https://blog.naver.com/qnfakswhr/223153870930</td>\n",
              "    </tr>\n",
              "    <tr>\n",
              "      <th>13</th>\n",
              "      <td>https://blog.naver.com/bononjh112/223171872173</td>\n",
              "    </tr>\n",
              "    <tr>\n",
              "      <th>14</th>\n",
              "      <td>https://blog.naver.com/jimonde/223154532999</td>\n",
              "    </tr>\n",
              "    <tr>\n",
              "      <th>15</th>\n",
              "      <td>https://blog.naver.com/hl971120/223163960427</td>\n",
              "    </tr>\n",
              "    <tr>\n",
              "      <th>16</th>\n",
              "      <td>https://blog.naver.com/playerjs1/223152238868</td>\n",
              "    </tr>\n",
              "    <tr>\n",
              "      <th>17</th>\n",
              "      <td>https://blog.naver.com/dellah1225/223174679127</td>\n",
              "    </tr>\n",
              "    <tr>\n",
              "      <th>18</th>\n",
              "      <td>https://blog.naver.com/sena9377/223177942317</td>\n",
              "    </tr>\n",
              "    <tr>\n",
              "      <th>19</th>\n",
              "      <td>https://blog.naver.com/thebest007/223163260263</td>\n",
              "    </tr>\n",
              "    <tr>\n",
              "      <th>20</th>\n",
              "      <td>https://blog.naver.com/daddy2015/223167531545</td>\n",
              "    </tr>\n",
              "    <tr>\n",
              "      <th>21</th>\n",
              "      <td>https://blog.naver.com/daddy2015/223169193975</td>\n",
              "    </tr>\n",
              "  </tbody>\n",
              "</table>\n",
              "</div>"
            ],
            "text/plain": [
              "                                                  url\n",
              "0           https://blog.naver.com/azeza/223170103447\n",
              "1       https://blog.naver.com/gurwn1725/223158156447\n",
              "2          https://blog.naver.com/pobain/223153257303\n",
              "3      https://blog.naver.com/renedelucy/223167804879\n",
              "4        https://blog.naver.com/notsilly/223153225029\n",
              "5        https://blog.naver.com/contopia/223172996246\n",
              "6         https://blog.naver.com/helpbri/223151816220\n",
              "7   https://blog.naver.com/qkqlqmfkdns32/223169237891\n",
              "8   https://blog.naver.com/livemoney2007/223163251399\n",
              "9       https://blog.naver.com/fairy0264/223153346618\n",
              "10    https://blog.naver.com/i0i_i0i_i0i/223152564027\n",
              "11     https://blog.naver.com/soosoo_oo_/223159918468\n",
              "12      https://blog.naver.com/qnfakswhr/223153870930\n",
              "13     https://blog.naver.com/bononjh112/223171872173\n",
              "14        https://blog.naver.com/jimonde/223154532999\n",
              "15       https://blog.naver.com/hl971120/223163960427\n",
              "16      https://blog.naver.com/playerjs1/223152238868\n",
              "17     https://blog.naver.com/dellah1225/223174679127\n",
              "18       https://blog.naver.com/sena9377/223177942317\n",
              "19     https://blog.naver.com/thebest007/223163260263\n",
              "20      https://blog.naver.com/daddy2015/223167531545\n",
              "21      https://blog.naver.com/daddy2015/223169193975"
            ]
          },
          "execution_count": 41,
          "metadata": {},
          "output_type": "execute_result"
        }
      ],
      "source": [
        "df = pd.DataFrame({'url':url_list})"
      ]
    },
    {
      "cell_type": "markdown",
      "metadata": {},
      "source": [
        "- URL에서 제목, 본문 가져오기\n",
        "    - URL blog id랑 logNo로 넣어야 가져올 수 있네! \n",
        "    - 제목을 목록이 아니라 URL로 접속해서 가져오는 이유 : URL 중에서 네이버블로그 아닌 블로그 존재. 네이버 블로그가 아닌 경우 2차링크 규칙이 달라지기 때문"
      ]
    },
    {
      "cell_type": "code",
      "execution_count": 48,
      "metadata": {},
      "outputs": [
        {
          "name": "stdout",
          "output_type": "stream",
          "text": [
            "200\n",
            "200\n",
            "200\n",
            "200\n",
            "200\n",
            "200\n",
            "200\n",
            "200\n",
            "200\n",
            "200\n",
            "200\n",
            "200\n",
            "200\n",
            "200\n",
            "200\n",
            "200\n",
            "200\n",
            "200\n",
            "200\n",
            "200\n",
            "200\n",
            "200\n"
          ]
        }
      ],
      "source": [
        "import requests\n",
        "titles = []\n",
        "contents = []\n",
        "for url in df.url:\n",
        "    #https://blog.naver.com/daddy2015/223169193975\t\n",
        "    blogid= url.split(\"/\")[-2]\n",
        "    blognum = url.split(\"/\")[-1]\n",
        "    URL = f'https://blog.naver.com/PostView.naver?blogId={blogid}&logNo={blognum}&redirect=Dlog&widgetTypeCall=true&directAccess=false'\n",
        "    headers = {'User-Agent':\"Mozilla/5.0 (Windows NT 10.0; Win64; x64) AppleWebKit/537.36 (KHTML, like Gecko) Chrome/115.0.0.0 Safari/537.36\"}\n",
        "    response = requests.get(URL, headers = headers)\n",
        "    print(response.status_code)\n",
        "    soup = BeautifulSoup(response.text, 'html.parser')\n",
        "    # 제목 가져오기 \n",
        "    title = soup.select_one(\"head title \").text\n",
        "    title = title.replace(' : 네이버 블로그','')\n",
        "    titles.append(title)\n",
        "\n",
        "    # 본문 가져오기\n",
        "    tags = soup.select('.se-main-container .se-component.se-text.se-l-default p span')\n",
        "    temp = \"\"\n",
        "    for tag in tags:\n",
        "        temp+=tag.text\n",
        "    contents.append(temp)\n",
        "    #class=\"se-component se-text se-l-default\"\n"
      ]
    },
    {
      "cell_type": "code",
      "execution_count": 49,
      "metadata": {},
      "outputs": [
        {
          "data": {
            "text/html": [
              "<div>\n",
              "<style scoped>\n",
              "    .dataframe tbody tr th:only-of-type {\n",
              "        vertical-align: middle;\n",
              "    }\n",
              "\n",
              "    .dataframe tbody tr th {\n",
              "        vertical-align: top;\n",
              "    }\n",
              "\n",
              "    .dataframe thead th {\n",
              "        text-align: right;\n",
              "    }\n",
              "</style>\n",
              "<table border=\"1\" class=\"dataframe\">\n",
              "  <thead>\n",
              "    <tr style=\"text-align: right;\">\n",
              "      <th></th>\n",
              "      <th>url</th>\n",
              "      <th>title</th>\n",
              "      <th>content</th>\n",
              "    </tr>\n",
              "  </thead>\n",
              "  <tbody>\n",
              "    <tr>\n",
              "      <th>0</th>\n",
              "      <td>https://blog.naver.com/azeza/223170103447</td>\n",
              "      <td>2023 신조어 모음</td>\n",
              "      <td>2023 신조어 모음 신조어는 새롭게 만들어진 단어 및 용어이나, 표준어로 등재되지...</td>\n",
              "    </tr>\n",
              "    <tr>\n",
              "      <th>1</th>\n",
              "      <td>https://blog.naver.com/gurwn1725/223158156447</td>\n",
              "      <td>2023 신조어 모음, 잡채 뜻은?</td>\n",
              "      <td>요새는 알쏭달쏭한 신조어들이 꽤 많은 것 같아요. 심지어 저는 아직 젊다고(?) 생...</td>\n",
              "    </tr>\n",
              "    <tr>\n",
              "      <th>2</th>\n",
              "      <td>https://blog.naver.com/pobain/223153257303</td>\n",
              "      <td>2023년 신조어 모음 2탄</td>\n",
              "      <td>​​알아두면 좋은 신조어 신조어 모음 2탄 야! 너도 신세대? 야! 나도 신세대! ...</td>\n",
              "    </tr>\n",
              "    <tr>\n",
              "      <th>3</th>\n",
              "      <td>https://blog.naver.com/renedelucy/223167804879</td>\n",
              "      <td>2023 신조어 모음! 농협은행 밈 무슨 뜻일까요?</td>\n",
              "      <td>​​여러분들 안녕하세요!​늘 유익하고 재미있는 정보 전해드리는원더베이프 문정점 인사...</td>\n",
              "    </tr>\n",
              "    <tr>\n",
              "      <th>4</th>\n",
              "      <td>https://blog.naver.com/notsilly/223153225029</td>\n",
              "      <td>스불재 뜻, 신조어 모음 2023버전 살펴보기(시사상식)</td>\n",
              "      <td>스불재 뜻, 신조어 모음 2023버전 살펴보기이번 포스팅에서는 MZ세대가 많이 사용...</td>\n",
              "    </tr>\n",
              "    <tr>\n",
              "      <th>5</th>\n",
              "      <td>https://blog.naver.com/contopia/223172996246</td>\n",
              "      <td>2023 신조어 테스트로 잘파 세대의 신조어를 R아보자! : 신조어 앤나 밈 테스트 모음</td>\n",
              "      <td>문특 컴눈명 샤이니편 보셨나요?돌아봐 멈춰봐 엠벼 궁합봐야 돼금사빠 레게노 너 T야...</td>\n",
              "    </tr>\n",
              "    <tr>\n",
              "      <th>6</th>\n",
              "      <td>https://blog.naver.com/helpbri/223151816220</td>\n",
              "      <td>2023 신조어 많이 사용하는 단어 모음</td>\n",
              "      <td>길 가다보면 젊은 사람이나 초중고등 학생들이 많이 보이는데요.길뿐만 아니라 지하철이...</td>\n",
              "    </tr>\n",
              "    <tr>\n",
              "      <th>7</th>\n",
              "      <td>https://blog.naver.com/qkqlqmfkdns32/223169237891</td>\n",
              "      <td>[2023 신조어 테스트와 퀴즈] MZ 용어 줄임말 모음!!</td>\n",
              "      <td>저도 공부 좀 해야겠네요~!!​모두 공부합시다.ㅎㅎ</td>\n",
              "    </tr>\n",
              "    <tr>\n",
              "      <th>8</th>\n",
              "      <td>https://blog.naver.com/livemoney2007/223163251399</td>\n",
              "      <td>2023년 요즘 밈 유행어 모음</td>\n",
              "      <td>오늘은 2023년 유행밈과 유행어를알려드리도록 하겠습니다!먼저 밈(MEME)은 민다...</td>\n",
              "    </tr>\n",
              "    <tr>\n",
              "      <th>9</th>\n",
              "      <td>https://blog.naver.com/fairy0264/223153346618</td>\n",
              "      <td>급증하는 신조어, 나도 MZ! 신조어 알아보기</td>\n",
              "      <td>신조어란 새로운 단어라는 뜻입니다. 우리나라에서는 유행어나 줄임말과 같은 의미로 쓰...</td>\n",
              "    </tr>\n",
              "    <tr>\n",
              "      <th>10</th>\n",
              "      <td>https://blog.naver.com/i0i_i0i_i0i/223152564027</td>\n",
              "      <td>2023년 7월 11일 뉴스레터 모음_뉴닉,데일리바이트,어피티</td>\n",
              "      <td>​기준금리 이대로 쭉 유지? 💰한국은행이 7월에 기준금리를 올리지 않을 것 같아요....</td>\n",
              "    </tr>\n",
              "    <tr>\n",
              "      <th>11</th>\n",
              "      <td>https://blog.naver.com/soosoo_oo_/223159918468</td>\n",
              "      <td>23FW는 올드머니 룩이 대세! 올드머니 현실 코디 룩북 모음. zip</td>\n",
              "      <td>​올드머니 룩이 대세! 올드머니 룩 코디 모음. zip글/사진 by 수수​​​​안녕...</td>\n",
              "    </tr>\n",
              "    <tr>\n",
              "      <th>12</th>\n",
              "      <td>https://blog.naver.com/qnfakswhr/223153870930</td>\n",
              "      <td>[스터디] TED Speech : 21st communication 1권 스터디 모...</td>\n",
              "      <td>안녕하세요, 여러분!다개국어 지나쌤, 서연맘 이지나입니다.우선, 이렇게 TED Sp...</td>\n",
              "    </tr>\n",
              "    <tr>\n",
              "      <th>13</th>\n",
              "      <td>https://blog.naver.com/bononjh112/223171872173</td>\n",
              "      <td>요즘 대세는 샐러드창업/여심저격 헬시플레저의 선택</td>\n",
              "      <td>​​​​​젊은 세대로 손바뀜하면서 많은 문화가 새로 생성되며그 중 하나가 식문화인데...</td>\n",
              "    </tr>\n",
              "    <tr>\n",
              "      <th>14</th>\n",
              "      <td>https://blog.naver.com/jimonde/223154532999</td>\n",
              "      <td>외국어 전공은 완벽하게 옳았다.  (최근에 한 사람을 만나서 은밀한 컴플렉스를 극복...</td>\n",
              "      <td>솔직히 나에게는 컴플렉스가 있었다. (완료형임에 유의. 얼마 전에 극복함.)​그건 ...</td>\n",
              "    </tr>\n",
              "    <tr>\n",
              "      <th>15</th>\n",
              "      <td>https://blog.naver.com/hl971120/223163960427</td>\n",
              "      <td>[이번주 유통업계] 7월 넷째 주 - 온라인&amp;오프라인 + 유통업계 경계 허물기</td>\n",
              "      <td>최저임금 만원 넘냐 안넘냐 이슈였는데 결국 9,860원에서 마무리.최저임금이 오름과...</td>\n",
              "    </tr>\n",
              "    <tr>\n",
              "      <th>16</th>\n",
              "      <td>https://blog.naver.com/playerjs1/223152238868</td>\n",
              "      <td>23.7.10 뉴스/이슈 모음(한화 XR, 버넥트, 에코프로 100만원, SK하이닉...</td>\n",
              "      <td>국내증시는 현대차를 제외하고 시총 상위 종목들은 모두 하락하면서 코스피 지수는 25...</td>\n",
              "    </tr>\n",
              "    <tr>\n",
              "      <th>17</th>\n",
              "      <td>https://blog.naver.com/dellah1225/223174679127</td>\n",
              "      <td>제로베이스 콘텐츠 마케터 스쿨 2일차</td>\n",
              "      <td>01. 디지털/브랜드 마케팅 FUNDAMENTAL​-03. 디지털 마케팅의 이해*마...</td>\n",
              "    </tr>\n",
              "    <tr>\n",
              "      <th>18</th>\n",
              "      <td>https://blog.naver.com/sena9377/223177942317</td>\n",
              "      <td>JMS 신도 논란 DKZ 경윤 결국 팀 탈퇴 경윤 프로필 나이 키 손편지 근황 종교...</td>\n",
              "      <td>​그룹 DKZ 멤버 경윤이 팀을 탈퇴한다.​7일 DKZ 소속사 동요엔터테인먼트는 D...</td>\n",
              "    </tr>\n",
              "    <tr>\n",
              "      <th>19</th>\n",
              "      <td>https://blog.naver.com/thebest007/223163260263</td>\n",
              "      <td>사제_four-truths</td>\n",
              "      <td>​【사제[한문]四諦[팔리]cattāro ariyasaccāni[범어]catur-ār...</td>\n",
              "    </tr>\n",
              "    <tr>\n",
              "      <th>20</th>\n",
              "      <td>https://blog.naver.com/daddy2015/223167531545</td>\n",
              "      <td>2023 신조어 퀴즈 및 테스트 모음(feat. MZ세대 용어, 자낳괴, 처돌이 등...</td>\n",
              "      <td>안녕하세요?김 PD 인사드립니다.^^​이제 지긋지긋한 장마가 끝나고...이번 주말은...</td>\n",
              "    </tr>\n",
              "    <tr>\n",
              "      <th>21</th>\n",
              "      <td>https://blog.naver.com/daddy2015/223169193975</td>\n",
              "      <td>[2023 신조어 테스트와 퀴즈] MZ 용어 줄임말 모음!!</td>\n",
              "      <td>안녕하세요?김 PD 인사드립니다.오늘은 즐거운 주말인데요...이번 주말에는 전국적으...</td>\n",
              "    </tr>\n",
              "  </tbody>\n",
              "</table>\n",
              "</div>"
            ],
            "text/plain": [
              "                                                  url  \\\n",
              "0           https://blog.naver.com/azeza/223170103447   \n",
              "1       https://blog.naver.com/gurwn1725/223158156447   \n",
              "2          https://blog.naver.com/pobain/223153257303   \n",
              "3      https://blog.naver.com/renedelucy/223167804879   \n",
              "4        https://blog.naver.com/notsilly/223153225029   \n",
              "5        https://blog.naver.com/contopia/223172996246   \n",
              "6         https://blog.naver.com/helpbri/223151816220   \n",
              "7   https://blog.naver.com/qkqlqmfkdns32/223169237891   \n",
              "8   https://blog.naver.com/livemoney2007/223163251399   \n",
              "9       https://blog.naver.com/fairy0264/223153346618   \n",
              "10    https://blog.naver.com/i0i_i0i_i0i/223152564027   \n",
              "11     https://blog.naver.com/soosoo_oo_/223159918468   \n",
              "12      https://blog.naver.com/qnfakswhr/223153870930   \n",
              "13     https://blog.naver.com/bononjh112/223171872173   \n",
              "14        https://blog.naver.com/jimonde/223154532999   \n",
              "15       https://blog.naver.com/hl971120/223163960427   \n",
              "16      https://blog.naver.com/playerjs1/223152238868   \n",
              "17     https://blog.naver.com/dellah1225/223174679127   \n",
              "18       https://blog.naver.com/sena9377/223177942317   \n",
              "19     https://blog.naver.com/thebest007/223163260263   \n",
              "20      https://blog.naver.com/daddy2015/223167531545   \n",
              "21      https://blog.naver.com/daddy2015/223169193975   \n",
              "\n",
              "                                                title  \\\n",
              "0                                         2023 신조어 모음   \n",
              "1                                 2023 신조어 모음, 잡채 뜻은?   \n",
              "2                                     2023년 신조어 모음 2탄   \n",
              "3                        2023 신조어 모음! 농협은행 밈 무슨 뜻일까요?   \n",
              "4                     스불재 뜻, 신조어 모음 2023버전 살펴보기(시사상식)   \n",
              "5   2023 신조어 테스트로 잘파 세대의 신조어를 R아보자! : 신조어 앤나 밈 테스트 모음   \n",
              "6                              2023 신조어 많이 사용하는 단어 모음   \n",
              "7                   [2023 신조어 테스트와 퀴즈] MZ 용어 줄임말 모음!!   \n",
              "8                                   2023년 요즘 밈 유행어 모음   \n",
              "9                           급증하는 신조어, 나도 MZ! 신조어 알아보기   \n",
              "10                 2023년 7월 11일 뉴스레터 모음_뉴닉,데일리바이트,어피티   \n",
              "11            23FW는 올드머니 룩이 대세! 올드머니 현실 코디 룩북 모음. zip   \n",
              "12  [스터디] TED Speech : 21st communication 1권 스터디 모...   \n",
              "13                        요즘 대세는 샐러드창업/여심저격 헬시플레저의 선택   \n",
              "14  외국어 전공은 완벽하게 옳았다.  (최근에 한 사람을 만나서 은밀한 컴플렉스를 극복...   \n",
              "15        [이번주 유통업계] 7월 넷째 주 - 온라인&오프라인 + 유통업계 경계 허물기   \n",
              "16  23.7.10 뉴스/이슈 모음(한화 XR, 버넥트, 에코프로 100만원, SK하이닉...   \n",
              "17                               제로베이스 콘텐츠 마케터 스쿨 2일차   \n",
              "18  JMS 신도 논란 DKZ 경윤 결국 팀 탈퇴 경윤 프로필 나이 키 손편지 근황 종교...   \n",
              "19                                     사제_four-truths   \n",
              "20  2023 신조어 퀴즈 및 테스트 모음(feat. MZ세대 용어, 자낳괴, 처돌이 등...   \n",
              "21                  [2023 신조어 테스트와 퀴즈] MZ 용어 줄임말 모음!!   \n",
              "\n",
              "                                              content  \n",
              "0   2023 신조어 모음 신조어는 새롭게 만들어진 단어 및 용어이나, 표준어로 등재되지...  \n",
              "1   요새는 알쏭달쏭한 신조어들이 꽤 많은 것 같아요. 심지어 저는 아직 젊다고(?) 생...  \n",
              "2   ​​알아두면 좋은 신조어 신조어 모음 2탄 야! 너도 신세대? 야! 나도 신세대! ...  \n",
              "3   ​​여러분들 안녕하세요!​늘 유익하고 재미있는 정보 전해드리는원더베이프 문정점 인사...  \n",
              "4   스불재 뜻, 신조어 모음 2023버전 살펴보기이번 포스팅에서는 MZ세대가 많이 사용...  \n",
              "5   문특 컴눈명 샤이니편 보셨나요?돌아봐 멈춰봐 엠벼 궁합봐야 돼금사빠 레게노 너 T야...  \n",
              "6   길 가다보면 젊은 사람이나 초중고등 학생들이 많이 보이는데요.길뿐만 아니라 지하철이...  \n",
              "7                        저도 공부 좀 해야겠네요~!!​모두 공부합시다.ㅎㅎ  \n",
              "8   오늘은 2023년 유행밈과 유행어를알려드리도록 하겠습니다!먼저 밈(MEME)은 민다...  \n",
              "9   신조어란 새로운 단어라는 뜻입니다. 우리나라에서는 유행어나 줄임말과 같은 의미로 쓰...  \n",
              "10  ​기준금리 이대로 쭉 유지? 💰한국은행이 7월에 기준금리를 올리지 않을 것 같아요....  \n",
              "11  ​올드머니 룩이 대세! 올드머니 룩 코디 모음. zip글/사진 by 수수​​​​안녕...  \n",
              "12  안녕하세요, 여러분!다개국어 지나쌤, 서연맘 이지나입니다.우선, 이렇게 TED Sp...  \n",
              "13  ​​​​​젊은 세대로 손바뀜하면서 많은 문화가 새로 생성되며그 중 하나가 식문화인데...  \n",
              "14  솔직히 나에게는 컴플렉스가 있었다. (완료형임에 유의. 얼마 전에 극복함.)​그건 ...  \n",
              "15  최저임금 만원 넘냐 안넘냐 이슈였는데 결국 9,860원에서 마무리.최저임금이 오름과...  \n",
              "16  국내증시는 현대차를 제외하고 시총 상위 종목들은 모두 하락하면서 코스피 지수는 25...  \n",
              "17  01. 디지털/브랜드 마케팅 FUNDAMENTAL​-03. 디지털 마케팅의 이해*마...  \n",
              "18  ​그룹 DKZ 멤버 경윤이 팀을 탈퇴한다.​7일 DKZ 소속사 동요엔터테인먼트는 D...  \n",
              "19  ​【사제[한문]四諦[팔리]cattāro ariyasaccāni[범어]catur-ār...  \n",
              "20  안녕하세요?김 PD 인사드립니다.^^​이제 지긋지긋한 장마가 끝나고...이번 주말은...  \n",
              "21  안녕하세요?김 PD 인사드립니다.오늘은 즐거운 주말인데요...이번 주말에는 전국적으...  "
            ]
          },
          "execution_count": 49,
          "metadata": {},
          "output_type": "execute_result"
        }
      ],
      "source": [
        "df['title']= titles\n",
        "df['content']= contents\n",
        "df"
      ]
    }
  ],
  "metadata": {
    "colab": {
      "provenance": [],
      "toc_visible": true
    },
    "kernelspec": {
      "display_name": "Python 3",
      "name": "python3"
    },
    "language_info": {
      "codemirror_mode": {
        "name": "ipython",
        "version": 3
      },
      "file_extension": ".py",
      "mimetype": "text/x-python",
      "name": "python",
      "nbconvert_exporter": "python",
      "pygments_lexer": "ipython3",
      "version": "3.10.9"
    }
  },
  "nbformat": 4,
  "nbformat_minor": 0
}
